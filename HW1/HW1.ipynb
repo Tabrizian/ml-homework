{
  "nbformat": 4,
  "nbformat_minor": 0,
  "metadata": {
    "colab": {
      "name": "HW1.ipynb",
      "version": "0.3.2",
      "provenance": [],
      "collapsed_sections": []
    },
    "kernelspec": {
      "name": "python3",
      "display_name": "Python 3"
    }
  },
  "cells": [
    {
      "metadata": {
        "id": "YxkuIH5OdtmA",
        "colab_type": "code",
        "colab": {}
      },
      "cell_type": "code",
      "source": [
        "import urllib.request\n",
        "dataset = urllib.request.urlopen(\"https://raw.githubusercontent.com/Tabrizian/ml-homework/master/HW1/dataset/data1.txt\").read().decode('ascii')"
      ],
      "execution_count": 0,
      "outputs": []
    },
    {
      "metadata": {
        "id": "1fcTS4a5ey8f",
        "colab_type": "code",
        "colab": {}
      },
      "cell_type": "code",
      "source": [
        "dataset = dataset.split('\\n')\n",
        "for index in range(len(dataset)):\n",
        "  dataset[index] = dataset[index].split(',')"
      ],
      "execution_count": 0,
      "outputs": []
    },
    {
      "metadata": {
        "id": "x3jj58LofhNM",
        "colab_type": "code",
        "colab": {}
      },
      "cell_type": "code",
      "source": [
        "train_size = int(len(dataset) * 0.6)\n",
        "eval_size = int(len(dataset) * 0.2)\n",
        "test_size = int(len(dataset) * 0.2)\n",
        "\n",
        "training_set = dataset[0:train_size]\n",
        "evaluation_set = dataset[train_size: train_size + eval_size]\n",
        "test_set = dataset[train_size + eval_size: len(dataset) - 1]"
      ],
      "execution_count": 0,
      "outputs": []
    },
    {
      "metadata": {
        "id": "1GS21ox1hAJq",
        "colab_type": "code",
        "colab": {
          "base_uri": "https://localhost:8080/",
          "height": 34
        },
        "outputId": "e07208dc-db6a-4f93-9e53-5c3951438bb1"
      },
      "cell_type": "code",
      "source": [
        ""
      ],
      "execution_count": 34,
      "outputs": [
        {
          "output_type": "execute_result",
          "data": {
            "text/plain": [
              "240"
            ]
          },
          "metadata": {
            "tags": []
          },
          "execution_count": 34
        }
      ]
    }
  ]
}